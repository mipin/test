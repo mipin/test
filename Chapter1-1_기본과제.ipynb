{
  "nbformat": 4,
  "nbformat_minor": 0,
  "metadata": {
    "colab": {
      "provenance": [],
      "gpuType": "T4",
      "include_colab_link": true
    },
    "kernelspec": {
      "name": "python3",
      "display_name": "Python 3"
    },
    "language_info": {
      "name": "python"
    },
    "accelerator": "GPU"
  },
  "cells": [
    {
      "cell_type": "markdown",
      "metadata": {
        "id": "view-in-github",
        "colab_type": "text"
      },
      "source": [
        "<a href=\"https://colab.research.google.com/github/mipin/test/blob/main/Chapter1-1_%EA%B8%B0%EB%B3%B8%EA%B3%BC%EC%A0%9C.ipynb\" target=\"_parent\"><img src=\"https://colab.research.google.com/assets/colab-badge.svg\" alt=\"Open In Colab\"/></a>"
      ]
    },
    {
      "cell_type": "markdown",
      "source": [
        "# MNIST 실습\n",
        "\n",
        "이번에는 28x28 흑백 손글씨 이미지를 보고 0~9 사이의 숫자 중 어떤 숫자를 쓴 것인지 예측하는 문제를 실습합니다.\n",
        "이번 실습에서는 GPU를 활용할 것이기 때문에, 이전 챕터에서 Colab에서 GPU를 설정하는 방법을 따라해주시길 바랍니다.\n",
        "\n",
        "GPU를 설정했으면 library들을 import합니다."
      ],
      "metadata": {
        "id": "OPJenlrhihrh"
      }
    },
    {
      "cell_type": "code",
      "execution_count": 3,
      "metadata": {
        "id": "6lXVfXoDtoQh"
      },
      "outputs": [],
      "source": [
        "import torch\n",
        "import torchvision\n",
        "import torchvision.transforms as transforms"
      ]
    },
    {
      "cell_type": "markdown",
      "source": [
        "다음은 dataset을 준비합니다. 손글씨 dataset은 MNIST라는 유명한 dataset이 있습니다. 이 dataset은 `torchvision`에서 제공하고 있으며, 다음과 같이 다운로드 받을 수 있습니다."
      ],
      "metadata": {
        "id": "pF-1zQvmiult"
      }
    },
    {
      "cell_type": "code",
      "source": [
        "transform = transforms.ToTensor()\n",
        "\n",
        "trainset = torchvision.datasets.MNIST(\n",
        "    root='./data',\n",
        "    train=True,\n",
        "    download=True,\n",
        "    transform=transform\n",
        ")"
      ],
      "metadata": {
        "id": "KAYlqPaRt6ti",
        "collapsed": true
      },
      "execution_count": 4,
      "outputs": []
    },
    {
      "cell_type": "code",
      "source": [
        "testset = torchvision.datasets.MNIST(\n",
        "    root='./data',\n",
        "    train=False,\n",
        "    download=True,\n",
        "    transform=transform\n",
        ")"
      ],
      "metadata": {
        "id": "905CpnCvsxOd"
      },
      "execution_count": 5,
      "outputs": []
    },
    {
      "cell_type": "markdown",
      "source": [
        "MNIST는 손글씨 사진과 어떤 숫자를 의미하는지에 대한 label의 pair들로 구성되어있습니다.\n",
        "이 때, 우리는 PyTorch model을 사용할 것이기 때문에 손글씨 사진들을 모두 tensor로 변환해야합니다.\n",
        "이러한 부가적인 변환들은 `torchvision.transforms`에서 제공하고 있으며, `torchvision.datasets.MNIST`에서 `transform` 인자로 받을 수 있습니다.\n",
        "우리는 단순히 사진을 tensor로 바꾸고 싶기 때문에 `transforms.ToTensor()` transformation을 넘겨줍니다.\n",
        "\n",
        "다음은 전체 data의 개수와 첫 번째 data를 출력한 결과입니다."
      ],
      "metadata": {
        "id": "p-GqH7_ZjVMs"
      }
    },
    {
      "cell_type": "code",
      "source": [
        "from matplotlib import pyplot as plt\n",
        "\n",
        "\n",
        "print(len(trainset))\n",
        "print(trainset[0][0].shape, trainset[0][1])\n",
        "plt.imshow(trainset[0][0][0], cmap='gray')"
      ],
      "metadata": {
        "colab": {
          "base_uri": "https://localhost:8080/",
          "height": 484
        },
        "id": "Zsp3sHmojyhT",
        "outputId": "0e7e73dc-a213-4c1c-e032-064f015ba3a7"
      },
      "execution_count": 6,
      "outputs": [
        {
          "output_type": "stream",
          "name": "stdout",
          "text": [
            "60000\n",
            "torch.Size([1, 28, 28]) 5\n"
          ]
        },
        {
          "output_type": "execute_result",
          "data": {
            "text/plain": [
              "<matplotlib.image.AxesImage at 0x7f3da6e571c0>"
            ]
          },
          "metadata": {},
          "execution_count": 6
        },
        {
          "output_type": "display_data",
          "data": {
            "text/plain": [
              "<Figure size 640x480 with 1 Axes>"
            ],
            "image/png": "[encoded data removed]"
          },
          "metadata": {}
        }
      ]
    },
    {
      "cell_type": "markdown",
      "source": [
        "첫 번째 출력결과를 통해 우리는 6만장의 손글씨 data가 있는 것을 알 수 있습니다.\n",
        "그리고 두 번째 출력결과를 통해 첫 번째 data의 shape은 (1, 28, 28)이고 5라는 숫자를 쓴 사진이라는 것을 알 수 있습니다.\n",
        "마지막으로 `plt.imshow`를 통해 visualize 했을 때 5라는 숫자가 나오는 것을 알 수 있습니다.\n",
        "\n",
        "다음은 SGD를 위해 dataset을 여러 개의 batch로 나누는 과정을 PyTorch로 구현한 모습입니다."
      ],
      "metadata": {
        "id": "udm8wDBsi301"
      }
    },
    {
      "cell_type": "code",
      "source": [
        "batch_size = 256\n",
        "\n",
        "trainloader = torch.utils.data.DataLoader(\n",
        "    trainset,\n",
        "    batch_size=batch_size,\n",
        "    shuffle=True\n",
        ")"
      ],
      "metadata": {
        "id": "UxKu3kA2i5WH"
      },
      "execution_count": 7,
      "outputs": []
    },
    {
      "cell_type": "code",
      "source": [
        "testloader = torch.utils.data.DataLoader(\n",
        "    testset,\n",
        "    batch_size=batch_size,\n",
        "    shuffle=False\n",
        ")"
      ],
      "metadata": {
        "id": "vecoYcPMs5E8"
      },
      "execution_count": 8,
      "outputs": []
    },
    {
      "cell_type": "markdown",
      "source": [
        "PyTorch에서는 `DataLoader`가 dataset을 인자로 받아 batch로 나눠줍니다.\n",
        "부가적으로 `batch_size`라는 인자를 통해 batch size를 받고 있으며, `shuffle`이라는 인자를 통해 data들을 섞을지 결정해줍니다.\n",
        "우리는 SGD가 완전 랜덤으로 batch를 구성해야 잘 동작하는 것을 알고 있기 때문에 `shuffle`에 `True`를 넘겨주고 있습니다.\n",
        "\n",
        "다음은 첫 번째 batch를 출력한 모습입니다."
      ],
      "metadata": {
        "id": "z4Qyrm4WlzWt"
      }
    },
    {
      "cell_type": "code",
      "source": [
        "dataiter = iter(trainloader)\n",
        "images, labels = next(dataiter)\n",
        "print(images.shape, labels.shape)"
      ],
      "metadata": {
        "colab": {
          "base_uri": "https://localhost:8080/"
        },
        "id": "_Hd7XxyAvVNz",
        "outputId": "4dcba35a-bad4-4224-b960-cda9ee8a0b6f"
      },
      "execution_count": 9,
      "outputs": [
        {
          "output_type": "stream",
          "name": "stdout",
          "text": [
            "torch.Size([256, 1, 28, 28]) torch.Size([256])\n"
          ]
        }
      ]
    },
    {
      "cell_type": "markdown",
      "source": [
        "`images`는 첫 번째 batch의 image들이고 `labels`는 첫 번째 batch의 label들입니다.\n",
        "위에서 batch size를 64로 설정했기 때문에 총 64개의 image와 label들이 있어야 합니다.\n",
        "실제 shape 출력 결과를 보면 그렇다는 것을 알 수 있습니다.\n",
        "\n",
        "다음은 (n, 1, 28, 28) shape의 image를 입력받아 0~9 사이의 정수 하나를 출력하는 3-layer MLP를 구현합니다."
      ],
      "metadata": {
        "id": "h0ZY5mDimRUK"
      }
    },
    {
      "cell_type": "code",
      "source": [
        "from torch import nn\n",
        "\n",
        "\n",
        "class Model(nn.Module):\n",
        "  def __init__(self, input_dim, n_dim, label_dim):\n",
        "    super().__init__()\n",
        "\n",
        "    self.layer1 = nn.Linear(input_dim, n_dim)\n",
        "    self.layer2 = nn.Linear(n_dim, n_dim)\n",
        "    self.layer3 = nn.Linear(n_dim, label_dim)\n",
        "\n",
        "    self.act = nn.ReLU()\n",
        "\n",
        "  def forward(self, x):\n",
        "    x = torch.flatten(x, start_dim=1)\n",
        "    x = self.act(self.layer1(x))\n",
        "    x = self.act(self.layer2(x))\n",
        "    x = self.layer3(x)\n",
        "\n",
        "    return x\n",
        "\n",
        "\n",
        "model = Model(28 * 28 * 1, 1024, 10)"
      ],
      "metadata": {
        "id": "OLOA-ZGTuVVG"
      },
      "execution_count": 10,
      "outputs": []
    },
    {
      "cell_type": "markdown",
      "source": [
        "이전의 2-layer MLP와 유사한 형태임을 알 수 있습니다.\n",
        "여기서 특이사항은 `forward`의 첫 번째 줄에 `torch.flatten`을 사용한다는 것입니다.\n",
        "`Linear`는 이전에도 봤다시피 (n, d) 형태의 shape을 입력받습니다.\n",
        "이미지는 (n, 1, 28, 28)이기 때문에 (n, 1 * 28 * 28)로 shape을 변환해야 선형 함수에 입력으로 주어줄 수 있게 됩니다.\n",
        "이 역할을 수행하는 것이 바로 `torch.flatten`입니다.\n",
        "우리는 첫 번째 shape인 n을 보존할 것이기 때문에 flatten할 차원은 `start_dim=1`로 넘겨주게 됩니다.\n",
        "\n",
        "다음은 gradient descent를 수행해줄 optimizer를 구현하는 모습입니다."
      ],
      "metadata": {
        "id": "tag1rNcwmnAr"
      }
    },
    {
      "cell_type": "code",
      "source": [
        "from torch.optim import SGD\n",
        "\n",
        "lr = 0.001\n",
        "model = model.to('cuda')\n",
        "\n",
        "optimizer = SGD(model.parameters(), lr=lr)"
      ],
      "metadata": {
        "id": "ypS0TcOlvBhZ"
      },
      "execution_count": 11,
      "outputs": []
    },
    {
      "cell_type": "markdown",
      "source": [
        "이전 코드와 거의 똑같습니다. 다른 점은 `model.to('cuda')` 코드를 통해 우리가 구현한 model을 GPU로 옮긴 것입니다.\n",
        "MNIST 부터는 모델과 data가 커지면서 훨씬 많은 행렬 연산이 이루어지기 때문에 GPU를 활용하는 것이 빠릅니다.\n",
        "\n",
        "다음은 model을 MNIST에 학습하는 코드입니다."
      ],
      "metadata": {
        "id": "5PooeOKMnRfZ"
      }
    },
    {
      "cell_type": "code",
      "source": [
        "def accuracy(model, dataloader):\n",
        "  cnt = 0\n",
        "  acc = 0\n",
        "\n",
        "  for data in dataloader:\n",
        "    inputs, labels = data\n",
        "    inputs, labels = inputs.to('cuda'), labels.to('cuda')\n",
        "\n",
        "    preds = model(inputs)\n",
        "    preds = torch.argmax(preds, dim=-1)\n",
        "\n",
        "    cnt += labels.shape[0]\n",
        "    acc += (labels == preds).sum().item()\n",
        "\n",
        "  return acc / cnt"
      ],
      "metadata": {
        "id": "TryX1hewvNiB",
        "collapsed": true
      },
      "execution_count": 12,
      "outputs": []
    },
    {
      "cell_type": "code",
      "source": [
        "n_epochs = 100\n",
        "# 손실 함수는 루프 밖에서 한 번만 정의\n",
        "loss_fn = nn.CrossEntropyLoss()\n",
        "train_accs = []\n",
        "test_accs = []\n",
        "\n",
        "for epoch in range(n_epochs):\n",
        "\n",
        "    total_loss = 0.\n",
        "\n",
        "    for data in trainloader:\n",
        "        model.zero_grad()\n",
        "\n",
        "        inputs, labels = data\n",
        "        inputs = inputs.to('cuda')\n",
        "        labels = labels.long().to('cuda')\n",
        "\n",
        "        preds = model(inputs)\n",
        "\n",
        "        try:\n",
        "            loss = loss_fn(preds, labels)\n",
        "            loss.backward()\n",
        "            optimizer.step()\n",
        "        except Exception as e:\n",
        "            print(f\"에러 발생: {e}\")\n",
        "            print(f\"Preds shape: {preds.shape}\")\n",
        "            print(f\"Labels shape: {labels.shape}\")\n",
        "            break\n",
        "\n",
        "        total_loss += loss.item()\n",
        "\n",
        "    train_accs.append(accuracy(model, trainloader))\n",
        "    test_accs.append(accuracy(model, testloader))\n",
        "\n",
        "    print(f\"Epoch {epoch:3d} | Loss: {total_loss}\")"
      ],
      "metadata": {
        "id": "J8B96Z7QtVpm",
        "outputId": "d72ceeec-6db5-4d21-c0a0-6485fe68b7f0",
        "colab": {
          "base_uri": "https://localhost:8080/"
        }
      },
      "execution_count": 14,
      "outputs": [
        {
          "output_type": "stream",
          "name": "stdout",
          "text": [
            "Epoch   0 | Loss: 539.4084730148315\n",
            "Epoch   1 | Loss: 535.4924371242523\n",
            "Epoch   2 | Loss: 531.4567148685455\n",
            "Epoch   3 | Loss: 527.1664040088654\n",
            "Epoch   4 | Loss: 522.5047640800476\n",
            "Epoch   5 | Loss: 517.3334052562714\n",
            "Epoch   6 | Loss: 511.51322507858276\n",
            "Epoch   7 | Loss: 504.88182067871094\n",
            "Epoch   8 | Loss: 497.3280439376831\n",
            "Epoch   9 | Loss: 488.59361600875854\n",
            "Epoch  10 | Loss: 478.5483845472336\n",
            "Epoch  11 | Loss: 467.035476565361\n",
            "Epoch  12 | Loss: 453.9782944917679\n",
            "Epoch  13 | Loss: 439.1914460659027\n",
            "Epoch  14 | Loss: 422.8881165981293\n",
            "Epoch  15 | Loss: 405.08262407779694\n",
            "Epoch  16 | Loss: 386.09613621234894\n",
            "Epoch  17 | Loss: 366.3461525440216\n",
            "Epoch  18 | Loss: 346.30059564113617\n",
            "Epoch  19 | Loss: 326.4388099908829\n",
            "Epoch  20 | Loss: 307.2149839401245\n",
            "Epoch  21 | Loss: 289.0604364871979\n",
            "Epoch  22 | Loss: 272.1700690984726\n",
            "Epoch  23 | Loss: 256.7398624420166\n",
            "Epoch  24 | Loss: 242.6914581656456\n",
            "Epoch  25 | Loss: 230.14406073093414\n",
            "Epoch  26 | Loss: 218.80454444885254\n",
            "Epoch  27 | Loss: 208.56855338811874\n",
            "Epoch  28 | Loss: 199.44674271345139\n",
            "Epoch  29 | Loss: 191.1874542236328\n",
            "Epoch  30 | Loss: 183.83709925413132\n",
            "Epoch  31 | Loss: 177.14608025550842\n",
            "Epoch  32 | Loss: 171.07995456457138\n",
            "Epoch  33 | Loss: 165.59251534938812\n",
            "Epoch  34 | Loss: 160.39631122350693\n",
            "Epoch  35 | Loss: 155.85238647460938\n",
            "Epoch  36 | Loss: 151.61788147687912\n",
            "Epoch  37 | Loss: 147.76258713006973\n",
            "Epoch  38 | Loss: 144.14101657271385\n",
            "Epoch  39 | Loss: 140.7712985575199\n",
            "Epoch  40 | Loss: 137.76959243416786\n",
            "Epoch  41 | Loss: 134.79872351884842\n",
            "Epoch  42 | Loss: 132.10774287581444\n",
            "Epoch  43 | Loss: 129.7057873904705\n",
            "Epoch  44 | Loss: 127.40012961626053\n",
            "Epoch  45 | Loss: 125.19002839922905\n",
            "Epoch  46 | Loss: 123.17623797059059\n",
            "Epoch  47 | Loss: 121.22933837771416\n",
            "Epoch  48 | Loss: 119.34912720322609\n",
            "Epoch  49 | Loss: 117.59561964869499\n",
            "Epoch  50 | Loss: 116.00290077924728\n",
            "Epoch  51 | Loss: 114.54269605875015\n",
            "Epoch  52 | Loss: 112.93419590592384\n",
            "Epoch  53 | Loss: 111.56624585390091\n",
            "Epoch  54 | Loss: 110.2422806918621\n",
            "Epoch  55 | Loss: 108.98613893985748\n",
            "Epoch  56 | Loss: 107.740059196949\n",
            "Epoch  57 | Loss: 106.61913946270943\n",
            "Epoch  58 | Loss: 105.5220527946949\n",
            "Epoch  59 | Loss: 104.48982480168343\n",
            "Epoch  60 | Loss: 103.44237673282623\n",
            "Epoch  61 | Loss: 102.51806396245956\n",
            "Epoch  62 | Loss: 101.55833759903908\n",
            "Epoch  63 | Loss: 100.72889211773872\n",
            "Epoch  64 | Loss: 99.91989228129387\n",
            "Epoch  65 | Loss: 99.00591307878494\n",
            "Epoch  66 | Loss: 98.20056822896004\n",
            "Epoch  67 | Loss: 97.45540070533752\n",
            "Epoch  68 | Loss: 96.78088593482971\n",
            "Epoch  69 | Loss: 96.0304172039032\n",
            "Epoch  70 | Loss: 95.34564012289047\n",
            "Epoch  71 | Loss: 94.69088599085808\n",
            "Epoch  72 | Loss: 94.05933037400246\n",
            "Epoch  73 | Loss: 93.47497513890266\n",
            "Epoch  74 | Loss: 92.86128345131874\n",
            "Epoch  75 | Loss: 92.27715662121773\n",
            "Epoch  76 | Loss: 91.69888252019882\n",
            "Epoch  77 | Loss: 91.17241311073303\n",
            "Epoch  78 | Loss: 90.6735178232193\n",
            "Epoch  79 | Loss: 90.10136583447456\n",
            "Epoch  80 | Loss: 89.60399186611176\n",
            "Epoch  81 | Loss: 89.16556653380394\n",
            "Epoch  82 | Loss: 88.65133991837502\n",
            "Epoch  83 | Loss: 88.2678008377552\n",
            "Epoch  84 | Loss: 87.76616224646568\n",
            "Epoch  85 | Loss: 87.31340542435646\n",
            "Epoch  86 | Loss: 86.9192601442337\n",
            "Epoch  87 | Loss: 86.55197343230247\n",
            "Epoch  88 | Loss: 86.12936992943287\n",
            "Epoch  89 | Loss: 85.68612295389175\n",
            "Epoch  90 | Loss: 85.3490749001503\n",
            "Epoch  91 | Loss: 84.95961433649063\n",
            "Epoch  92 | Loss: 84.58915394544601\n",
            "Epoch  93 | Loss: 84.24433651566505\n",
            "Epoch  94 | Loss: 83.8782000541687\n",
            "Epoch  95 | Loss: 83.6169512718916\n",
            "Epoch  96 | Loss: 83.22598548233509\n",
            "Epoch  97 | Loss: 82.85929884016514\n",
            "Epoch  98 | Loss: 82.50187394022942\n",
            "Epoch  99 | Loss: 82.21453668177128\n"
          ]
        }
      ]
    },
    {
      "cell_type": "markdown",
      "source": [
        "출력 결과를 보면 잘 수렴하는 것을 볼 수 있습니다.\n",
        "이전 구현과 다른 점은 다음 두 가지입니다.\n",
        "- `for data in trainloader`를 통해 batch들을 iterate하면서 model을 학습합니다.\n",
        "- `inputs, labels = inputs.to('cuda'), labels.to('cuda')`를 통해 model의 입력으로 들어가는 tensor들을 GPU로 보냅니다.\n",
        "\n",
        "마지막으로 첫 번째 data에 대한 예측 결과를 살펴봅시다."
      ],
      "metadata": {
        "id": "YRDcptrqniX7"
      }
    },
    {
      "cell_type": "code",
      "source": [
        "idx = 0\n",
        "\n",
        "x = trainset[idx][0][None]  # (1, 1, 28, 28)\n",
        "x = x.to('cuda')\n",
        "\n",
        "print(model(x))\n",
        "print(trainset[idx][1])"
      ],
      "metadata": {
        "id": "Zct0ssSKwjt1",
        "colab": {
          "base_uri": "https://localhost:8080/"
        },
        "outputId": "154efdae-9ad6-4b5d-db14-ec534e2508e4"
      },
      "execution_count": 15,
      "outputs": [
        {
          "output_type": "stream",
          "name": "stdout",
          "text": [
            "tensor([[ 1.6700, -4.3369,  0.3306,  4.8880, -5.5754,  4.4713, -2.4716, -0.1043,\n",
            "          1.3330, -0.2790]], device='cuda:0', grad_fn=<AddmmBackward0>)\n",
            "5\n"
          ]
        }
      ]
    },
    {
      "cell_type": "markdown",
      "source": [
        "여기서 idx를 조정하여 다른 data에 대한 출력 결과도 볼 수 있습니다.\n",
        "예측 결과를 보시면 아직 성능이 그렇게 좋지 않은 것을 알 수 있습니다."
      ],
      "metadata": {
        "id": "qzgSOrMsoZ2z"
      }
    },
    {
      "cell_type": "code",
      "source": [
        "import numpy as np\n",
        "\n",
        "def plot_acc(train_accs, test_accs, label1='train', label2='test'):\n",
        "  x = np.arange(len(train_accs))\n",
        "\n",
        "  plt.plot(x, train_accs, label=label1)\n",
        "  plt.plot(x, test_accs, label=label2)\n",
        "  plt.legend()\n",
        "  plt.show()\n",
        "\n",
        "\n",
        "plot_acc(train_accs, test_accs)"
      ],
      "metadata": {
        "id": "d6M4SpWQoML9",
        "outputId": "f2e2a295-8a93-49e6-e3b6-8a6a10e9955d",
        "colab": {
          "base_uri": "https://localhost:8080/",
          "height": 430
        }
      },
      "execution_count": 16,
      "outputs": [
        {
          "output_type": "display_data",
          "data": {
            "text/plain": [
              "<Figure size 640x480 with 1 Axes>"
            ],
            "image/png": "[encoded data removed]"
          },
          "metadata": {}
        }
      ]
    }
  ]
}